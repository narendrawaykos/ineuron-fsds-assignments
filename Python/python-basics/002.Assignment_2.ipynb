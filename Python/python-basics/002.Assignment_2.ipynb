{
 "cells": [
  {
   "cell_type": "markdown",
   "id": "c4365d66",
   "metadata": {},
   "source": [
    "# Assignment 2 solutions"
   ]
  },
  {
   "cell_type": "markdown",
   "id": "652d8931",
   "metadata": {},
   "source": [
    "#### Q1. What are the two values of the Boolean data type? How do you write them?"
   ]
  },
  {
   "cell_type": "markdown",
   "id": "33d02008",
   "metadata": {},
   "source": [
    "**Ans**: Boolean data type accepts two value. True & False. follow camelcase while writting this values."
   ]
  },
  {
   "cell_type": "code",
   "execution_count": 1,
   "id": "e1133f78",
   "metadata": {},
   "outputs": [
    {
     "name": "stdout",
     "output_type": "stream",
     "text": [
      "Type of 'True' <class 'bool'>\n",
      "Type of 'False' <class 'bool'>\n"
     ]
    }
   ],
   "source": [
    "print(\"Type of 'True'\", type(True))\n",
    "print(\"Type of 'False'\", type(False))"
   ]
  },
  {
   "cell_type": "markdown",
   "id": "7ee1ae71",
   "metadata": {},
   "source": [
    "#### Q.2  What are the three different types of Boolean operators?"
   ]
  },
  {
   "cell_type": "markdown",
   "id": "bf4e01d9",
   "metadata": {},
   "source": [
    "**Ans**: There three different types of Boolean operators in python which are as follows:\n",
    "1. not\n",
    "2. and\n",
    "3. or"
   ]
  },
  {
   "cell_type": "markdown",
   "id": "914ef410",
   "metadata": {},
   "source": [
    "#### Q3. Make a list of each Boolean operator's truth tables (i.e. every possible combination of Boolean values for the operator and what it evaluate )."
   ]
  },
  {
   "cell_type": "markdown",
   "id": "ac6029a6",
   "metadata": {},
   "source": [
    "**Ans**:\n",
    "Truth table for `not` operator:  \n",
    "\n",
    "|      input     |     output      |  \n",
    "|----------------|-----------------|\n",
    "|      True      |     False       |  \n",
    "|      False     |     True        |  \n",
    "\n",
    "Truth table for `or` operator:  \n",
    "\n",
    "|      input1    |     input2      |     output     |\n",
    "|----------------|-----------------|----------------|\n",
    "|      False     |     False       |      False     |\n",
    "|      False     |     True        |      True      |\n",
    "|      True      |     False       |      True      |\n",
    "|      True      |     True        |      True      |\n",
    "\n",
    "Truth table for `and` operator:  \n",
    "\n",
    "|      input1    |     input2      |     output     |\n",
    "|----------------|-----------------|----------------|\n",
    "|      False     |     False       |      False     |\n",
    "|      False     |     True        |      False     |\n",
    "|      True      |     False       |      False     |\n",
    "|      True      |     True        |      True      |"
   ]
  },
  {
   "cell_type": "markdown",
   "id": "410b8d7a",
   "metadata": {},
   "source": [
    "#### Q4. What are the values of the following expressions?\n",
    "- (5 > 4) and (3 == 5)  \n",
    "- not (5 > 4)\n",
    "- (5 > 4) or (3 == 5)\n",
    "- not ((5 > 4) or (3 == 5))\n",
    "- (True and True) and (True == False)\n",
    "- (not False) or (not True)"
   ]
  },
  {
   "cell_type": "markdown",
   "id": "2654d9e9",
   "metadata": {},
   "source": [
    "**Ans**: \n",
    "- (5 > 4) and (3 == 5)  => **False**\n",
    "- not (5 > 4)  =>  **False**\n",
    "- (5 > 4) or (3 == 5)  =>  **True**\n",
    "- not ((5 > 4) or (3 == 5))  =>  **False**\n",
    "- (True and True) and (True == False)  =>  **False**\n",
    "- (not False) or (not True)  =>  **True**"
   ]
  },
  {
   "cell_type": "markdown",
   "id": "42a735ab",
   "metadata": {},
   "source": [
    "#### Q5. What are the six comparison operators?"
   ]
  },
  {
   "cell_type": "markdown",
   "id": "f1167c49",
   "metadata": {},
   "source": [
    "**Ans**: Followings are the six comparison operators available in python:  \n",
    "`==` (equals to), `!=` (not equals to)  \n",
    " `>` (greater than), `<` less than  \n",
    " `>=` (greater than equals to), `<=` (less than equals to)  "
   ]
  },
  {
   "cell_type": "markdown",
   "id": "a97ed098",
   "metadata": {},
   "source": [
    "#### Q6. How do you tell the difference between the equal to and assignment operators?Describe a condition and when you would use one."
   ]
  },
  {
   "cell_type": "markdown",
   "id": "216f0e07",
   "metadata": {},
   "source": [
    "**Ans**:.  \n",
    "\n",
    "| equals to                |                   assignment |\n",
    "|:--------------------------|:------------------------------|\n",
    "|`==` is equals to operator| `=` is an assignment operator|\n",
    "|used to compare to two values & evaluate to a boolean result| assignment operator used to store the value in a variable|"
   ]
  },
  {
   "cell_type": "code",
   "execution_count": 2,
   "id": "b952183e",
   "metadata": {},
   "outputs": [
    {
     "name": "stdout",
     "output_type": "stream",
     "text": [
      "22\n",
      "yes, x is equal to 22\n"
     ]
    }
   ],
   "source": [
    "#Example\n",
    "# Assignment operator which stores value 22 in variabl x\n",
    "x = 22\n",
    "print(x)\n",
    "#Equals to operator check if x is equals to 22 or not\n",
    "if (x == 22):\n",
    "    print('yes, x is equal to 22')\n",
    "else:\n",
    "    print('x != 22')"
   ]
  },
  {
   "cell_type": "markdown",
   "id": "24056a0d",
   "metadata": {},
   "source": [
    "#### Q7.  Identify the three blocks in this code:\n",
    "spam = 0  \n",
    "if spam == 10:  \n",
    "print('eggs')  \n",
    "if spam > 5:  \n",
    "print('bacon')  \n",
    "else:  \n",
    "print('ham')  \n",
    "print('spam')  \n",
    "print('spam')  "
   ]
  },
  {
   "cell_type": "markdown",
   "id": "c07e9428",
   "metadata": {},
   "source": [
    "**Ans**: corrected code:  "
   ]
  },
  {
   "cell_type": "code",
   "execution_count": 3,
   "id": "29c7e0d3",
   "metadata": {},
   "outputs": [
    {
     "name": "stdout",
     "output_type": "stream",
     "text": [
      "ham\n",
      "spam\n",
      "spam\n"
     ]
    }
   ],
   "source": [
    "spam = 0\n",
    "if spam == 10:\n",
    "    print('eggs')  # block 1\n",
    "if spam > 5:\n",
    "    print('bacon') # block 2\n",
    "else:\n",
    "    print('ham')   # block 3\n",
    "print('spam')\n",
    "print('spam')"
   ]
  },
  {
   "cell_type": "markdown",
   "id": "2af5bc95",
   "metadata": {},
   "source": [
    "#### Q8. Write code that prints Hello if 1 is stored in spam, prints Howdy if 2 is stored in spam, and prints Greetings! if anything else is stored in spam."
   ]
  },
  {
   "cell_type": "markdown",
   "id": "3f1f780e",
   "metadata": {},
   "source": [
    "**Ans**:"
   ]
  },
  {
   "cell_type": "code",
   "execution_count": 4,
   "id": "f1758cd2",
   "metadata": {},
   "outputs": [
    {
     "name": "stdout",
     "output_type": "stream",
     "text": [
      "Hello\n"
     ]
    }
   ],
   "source": [
    "spam = 1\n",
    "if spam == 1:\n",
    "    print('Hello')\n",
    "elif spam == 2:\n",
    "    print('Howdy')\n",
    "else:\n",
    "    print('Greetings')"
   ]
  },
  {
   "cell_type": "markdown",
   "id": "e43df5cf",
   "metadata": {},
   "source": [
    "#### Q9. If your programme is stuck in an endless loop, what keys you’ll press?"
   ]
  },
  {
   "cell_type": "markdown",
   "id": "69cc9343",
   "metadata": {},
   "source": [
    "**Ans**: Use `Cntrl+c` to stop the program"
   ]
  },
  {
   "cell_type": "markdown",
   "id": "94368864",
   "metadata": {},
   "source": [
    "#### Q10. How can you tell the difference between break and continue?"
   ]
  },
  {
   "cell_type": "markdown",
   "id": "4941bdd7",
   "metadata": {},
   "source": [
    "**Ans**: `break` statement moves the execution outside of the loop & stop the loop execution. `continue` statement moves the execution at the start of the loop skipping all the statements after it."
   ]
  },
  {
   "cell_type": "markdown",
   "id": "01af4057",
   "metadata": {},
   "source": [
    "#### Q11. In a for loop, what is the difference between range(10), range(0, 10), and range(0, 10, 1)?"
   ]
  },
  {
   "cell_type": "markdown",
   "id": "17c538ef",
   "metadata": {},
   "source": [
    "**Ans**: The difference is:  \n",
    "**range(10)** => loop start from 0 & goes upto 9 (excluding 10)  \n",
    "**range(0, 10)** => explicitly mentioned to start from 0 here  \n",
    "**range(0, 10, 1)** => explicitly mentioned to start from 0 & go upto 10 (excluding 10) by incrementing by 1  "
   ]
  },
  {
   "cell_type": "markdown",
   "id": "961332db",
   "metadata": {},
   "source": [
    "#### Q12. Write a short program that prints the numbers 1 to 10 using a for loop. Then write an equivalent program that prints the numbers 1 to 10 using a while loop."
   ]
  },
  {
   "cell_type": "markdown",
   "id": "44c3b844",
   "metadata": {},
   "source": [
    "**Ans**:"
   ]
  },
  {
   "cell_type": "code",
   "execution_count": 5,
   "id": "a8bd3fff",
   "metadata": {},
   "outputs": [
    {
     "name": "stdout",
     "output_type": "stream",
     "text": [
      "-----------print 1-10 using for loop-------------\n",
      "0 1 2 3 4 5 6 7 8 9 10 \n",
      "\n",
      "-----------print 1-10 using while loop-------------\n",
      "0 1 2 3 4 5 6 7 8 9 10 "
     ]
    }
   ],
   "source": [
    "print(\"-----------print 1-10 using for loop-------------\")\n",
    "for i in range(11):\n",
    "    print(i, end=' ')\n",
    "\n",
    "print(\"\\n\\n-----------print 1-10 using while loop-------------\")\n",
    "i = 0\n",
    "while i < 11:\n",
    "    print(i, end=' ')\n",
    "    i = i + 1"
   ]
  },
  {
   "cell_type": "markdown",
   "id": "b4af6d50",
   "metadata": {},
   "source": [
    "#### Q13.If you had a function named bacon() inside a module named spam, how would you call it after importing spam?    "
   ]
  },
  {
   "cell_type": "markdown",
   "id": "bb5c3dbf",
   "metadata": {},
   "source": [
    "**Ans**:.  \n",
    "suppoe spam is module. then the function can be called as:\n",
    "\n",
    "`import spam  \n",
    "spam.bacon()`"
   ]
  },
  {
   "cell_type": "markdown",
   "id": "bbc9b9cf",
   "metadata": {},
   "source": [
    "#### -------------------------------------------------------------- END --------------------------------------------------------------------"
   ]
  }
 ],
 "metadata": {
  "kernelspec": {
   "display_name": "Python 3 (ipykernel)",
   "language": "python",
   "name": "python3"
  },
  "language_info": {
   "codemirror_mode": {
    "name": "ipython",
    "version": 3
   },
   "file_extension": ".py",
   "mimetype": "text/x-python",
   "name": "python",
   "nbconvert_exporter": "python",
   "pygments_lexer": "ipython3",
   "version": "3.8.10"
  }
 },
 "nbformat": 4,
 "nbformat_minor": 5
}
