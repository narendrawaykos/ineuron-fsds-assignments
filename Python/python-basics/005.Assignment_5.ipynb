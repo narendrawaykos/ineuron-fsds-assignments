{
 "cells": [
  {
   "cell_type": "markdown",
   "id": "ac6d0930",
   "metadata": {},
   "source": [
    "# Assignment 5 solution"
   ]
  },
  {
   "cell_type": "markdown",
   "id": "4b22b095",
   "metadata": {},
   "source": [
    "#### Q1. What does an empty dictionary's code look like?\n",
    "**Ans**: `d = {}` or `d = dict()`"
   ]
  },
  {
   "cell_type": "markdown",
   "id": "b0afd30d",
   "metadata": {},
   "source": [
    "#### Q2.  What is the value of a dictionary value with the key 'foo' and the value 42?\n",
    "**Ans**: `{'foo':42}`"
   ]
  },
  {
   "cell_type": "markdown",
   "id": "99edc534",
   "metadata": {},
   "source": [
    "#### Q3.  What is the most significant distinction between a dictionary and a list?\n",
    "**Ans**:  \n",
    "\n",
    "|disctionary|list|\n",
    "|:----------|:----|\n",
    "|dictionary store the values in `key-value` pair|list store the values in `index-value` pair|\n",
    "|dictionary created using `{}`|list created using `[]`|\n",
    "|items store are unorder|order of items are maintained|"
   ]
  },
  {
   "cell_type": "markdown",
   "id": "5a2e1635",
   "metadata": {},
   "source": [
    "#### Q4. What happens if you try to access spam['foo'] if spam is {'bar': 100}?\n",
    "**Ans**: `spam['foo']` will throw `KeyError: 'foo'`"
   ]
  },
  {
   "cell_type": "markdown",
   "id": "e752b5be",
   "metadata": {},
   "source": [
    "#### Q5.  If a dictionary is stored in spam, what is the difference between the expressions 'cat' in spam and 'cat' in spam.keys()?\n",
    "**Ans**: No difference. `'cat' in spam` check if key named `'cat'` is present in the dictionary. & `'cat' in spam.keys()` checks if key named `'cat'` is present in the key-set."
   ]
  },
  {
   "cell_type": "markdown",
   "id": "e39a3361",
   "metadata": {},
   "source": [
    "#### Q6. If a dictionary is stored in spam, what is the difference between the expressions 'cat' in spam and 'cat' in spam.values()?\n",
    "**Ans**: `'cat' in spam` check if key named `'cat'` is present in the dictionary while `'cat' in spam.values()` check if is there any exist with value as `'cat'`."
   ]
  },
  {
   "cell_type": "markdown",
   "id": "ab37a233",
   "metadata": {},
   "source": [
    "#### Q7. What is a shortcut for the following code? \n",
    "`if 'color' not in spam:\n",
    "spam['color'] = 'black'`  \n",
    "**Ans**: `spam.setdefault('color', 'black')` this will insert the key in dictionary if it does not exist"
   ]
  },
  {
   "cell_type": "markdown",
   "id": "82405994",
   "metadata": {},
   "source": [
    "#### Q8. How do you \"pretty print\" dictionary values using which module and function?\n",
    "**Ans**: we can pretty print the disctionary using multiple modules.\n",
    "- by using pprint() function from pprint module\n",
    "- by using dumps() method from json module"
   ]
  },
  {
   "cell_type": "code",
   "execution_count": 1,
   "id": "a10b5d5b",
   "metadata": {},
   "outputs": [
    {
     "name": "stdout",
     "output_type": "stream",
     "text": [
      "* pretty print using pprint.pprint(): \n",
      "{'address': {'city': 'Mumbai', 'state': 'Maharashtra'},\n",
      " 'age': 18,\n",
      " 'name': 'Ishaan'}\n",
      "--------------------------------------------------\n",
      "* pretty print using json.dumps(): \n",
      "{\n",
      "    \"name\": \"Ishaan\",\n",
      "    \"age\": 18,\n",
      "    \"address\": {\n",
      "        \"city\": \"Mumbai\",\n",
      "        \"state\": \"Maharashtra\"\n",
      "    }\n",
      "}\n"
     ]
    }
   ],
   "source": [
    "#Example\n",
    "students = {\n",
    "    'name': 'Rohit',\n",
    "    'age': 17,\n",
    "    'address': {\n",
    "        'city': 'Pune',\n",
    "        'state': 'Maharashtra'\n",
    "    },\n",
    "    'name': 'Ishaan',\n",
    "    'age': 18,\n",
    "    'address': {\n",
    "        'city': 'Mumbai',\n",
    "        'state': 'Maharashtra'\n",
    "    }\n",
    "}\n",
    "\n",
    "print(\"* pretty print using pprint.pprint(): \")\n",
    "import pprint\n",
    "pprint.pprint(students)\n",
    "print('-'*50)\n",
    "print(\"* pretty print using json.dumps(): \")\n",
    "import json\n",
    "print(json.dumps(students, indent=4))"
   ]
  },
  {
   "cell_type": "markdown",
   "id": "2d443590",
   "metadata": {},
   "source": [
    "Observation: pprint.pprint() doest not pretty print the nested dictionary."
   ]
  },
  {
   "cell_type": "markdown",
   "id": "fe95f052",
   "metadata": {},
   "source": [
    "# --------------------------------------------- END ---------------------------------------------"
   ]
  }
 ],
 "metadata": {
  "kernelspec": {
   "display_name": "Python 3 (ipykernel)",
   "language": "python",
   "name": "python3"
  },
  "language_info": {
   "codemirror_mode": {
    "name": "ipython",
    "version": 3
   },
   "file_extension": ".py",
   "mimetype": "text/x-python",
   "name": "python",
   "nbconvert_exporter": "python",
   "pygments_lexer": "ipython3",
   "version": "3.8.10"
  }
 },
 "nbformat": 4,
 "nbformat_minor": 5
}
