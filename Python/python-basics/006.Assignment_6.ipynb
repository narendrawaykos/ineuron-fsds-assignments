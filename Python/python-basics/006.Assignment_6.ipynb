{
 "cells": [
  {
   "cell_type": "markdown",
   "id": "4a152386",
   "metadata": {},
   "source": [
    "# Assignment 6 solution"
   ]
  },
  {
   "cell_type": "markdown",
   "id": "da94023d",
   "metadata": {},
   "source": [
    "#### Q1. What are escape characters, and how do you use them?\n",
    "**Ans**: An escape character is a special character in string literal which is having special meaning to the compiler. escape characters are used to print a character which is impossible to type in string. escape characters are start with `\\` followed by character or symbol."
   ]
  },
  {
   "cell_type": "markdown",
   "id": "5abae908",
   "metadata": {},
   "source": [
    "#### Q2.  What do the escape characters n and t stand for? \n",
    "**Ans**: `\\n` - for new line  \n",
    "`\\t` - for tab"
   ]
  },
  {
   "cell_type": "markdown",
   "id": "b0ed56a8",
   "metadata": {},
   "source": [
    "#### Q3.  What is the way to include backslash characters in a string?\n",
    "**Ans**: `\\\\`  \n",
    "e.g. `\"example of how to print \\\\ in a string\"`"
   ]
  },
  {
   "cell_type": "code",
   "execution_count": 1,
   "id": "74a3585c",
   "metadata": {},
   "outputs": [
    {
     "name": "stdout",
     "output_type": "stream",
     "text": [
      "example of how to print \\ in a string\n"
     ]
    }
   ],
   "source": [
    "print(\"example of how to print \\\\ in a string\")"
   ]
  },
  {
   "cell_type": "markdown",
   "id": "1aa6cc55",
   "metadata": {},
   "source": [
    "#### Q4. The string \"Howl's Moving Castle\" is a correct value. Why isn't the single quote character in the word Howl's not escaped a problem?\n",
    "**Ans**:In `\"Howl's Moving Castle\"` this string `Howl's` is enclosed in the double quotes hence `'` is not creating colflicts with the `\"`."
   ]
  },
  {
   "cell_type": "markdown",
   "id": "c336d04b",
   "metadata": {},
   "source": [
    "#### Q5.  How do you write a string of newlines if you don't want to use the n character?\n",
    "**Ans**: We can use multiline string i.e. string enclosed in `''' '''` (triple single quotes) can have newlines without the use of `\\n`"
   ]
  },
  {
   "cell_type": "markdown",
   "id": "38792363",
   "metadata": {},
   "source": [
    "#### Q6.  What are the values of the given expressions?\n",
    "`'Hello, world!'[1]\n",
    "'Hello, world!'[0:5]\n",
    "'Hello, world!'[:5]\n",
    "'Hello, world!'[3:]`  \n",
    "**Ans**:  \n",
    "`'Hello, world!'[1]` => `e`  \n",
    "`'Hello, world!'[0:5]` => `Hello`  \n",
    "`'Hello, world!'[:5]` => `Hello`  \n",
    "`'Hello, world!'[3:]` => `lo, world!`  "
   ]
  },
  {
   "cell_type": "markdown",
   "id": "fd1bf737",
   "metadata": {},
   "source": [
    "#### Q7.  What are the values of the following expressions?\n",
    "`'Hello'.upper()\n",
    "'Hello'.upper().isupper()\n",
    "'Hello'.upper().lower()`  \n",
    "**Ans**:  \n",
    "`'Hello'.upper()` => `'HELLO'`  \n",
    "`'Hello'.upper().isupper()` => `True`  \n",
    "`'Hello'.upper().lower()` => `'hello'`\n"
   ]
  },
  {
   "cell_type": "markdown",
   "id": "95a7781d",
   "metadata": {},
   "source": [
    "#### Q8.   What are the values of the following expressions?\n",
    "`'Remember, remember, the fifth of July.'.split()\n",
    "'-'.join('There can only one.'.split())`  \n",
    "**Ans**:\n",
    "- `'Remember, remember, the fifth of July.'.split()` => `['Remember,', 'remember,', 'the', 'fifth', 'of', 'July.']`  \n",
    "- `'-'.join('There can only one.'.split())` => `'There-can-only-one.'`"
   ]
  },
  {
   "cell_type": "markdown",
   "id": "38781215",
   "metadata": {},
   "source": [
    "#### Q9. What are the methods for right-justifying, left-justifying, and centering a string?\n",
    "**Ans**:\n",
    "- `rjust()`: method for right-justifying\n",
    "- `ljust()`: method for left-justifying\n",
    "- `center()`: method for centering the string\n"
   ]
  },
  {
   "cell_type": "markdown",
   "id": "b0ef6f4b",
   "metadata": {},
   "source": [
    "#### Q9. What is the best way to remove whitespace characters from the start or end?\n",
    "**Ans**: `lstrip()` & `rstrip()` methods remove the whitespace characters from the start & end of the string."
   ]
  },
  {
   "cell_type": "markdown",
   "id": "c2e1f16f",
   "metadata": {},
   "source": [
    "# ------------------------------------------- END ------------------------------------------------"
   ]
  }
 ],
 "metadata": {
  "kernelspec": {
   "display_name": "Python 3 (ipykernel)",
   "language": "python",
   "name": "python3"
  },
  "language_info": {
   "codemirror_mode": {
    "name": "ipython",
    "version": 3
   },
   "file_extension": ".py",
   "mimetype": "text/x-python",
   "name": "python",
   "nbconvert_exporter": "python",
   "pygments_lexer": "ipython3",
   "version": "3.8.10"
  }
 },
 "nbformat": 4,
 "nbformat_minor": 5
}
