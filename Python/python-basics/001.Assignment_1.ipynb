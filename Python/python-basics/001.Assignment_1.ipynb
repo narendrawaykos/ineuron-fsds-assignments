{
 "cells": [
  {
   "cell_type": "markdown",
   "id": "4c7e2a55",
   "metadata": {},
   "source": [
    "## Assignment 1 Solutions"
   ]
  },
  {
   "cell_type": "markdown",
   "id": "8a75114f",
   "metadata": {},
   "source": [
    "### Q 1. In the below elements which of them are values or an expression? eg:- values can be integer or string and expressions will be mathematical operators.\n",
    "`*`, `'hello'`, `-87.8`, `-`, `/`, `+`, `6` "
   ]
  },
  {
   "cell_type": "markdown",
   "id": "d4fa0baa",
   "metadata": {},
   "source": [
    "**Ans:**   \n",
    "**Operator:** `*`, `-`, `/`, `+`  \n",
    "**Values**: `'hello'`, `-87.8`, `6`\n"
   ]
  },
  {
   "cell_type": "markdown",
   "id": "a2a3c8d3",
   "metadata": {},
   "source": [
    "#### Q2. What is the difference between string and variable?"
   ]
  },
  {
   "cell_type": "markdown",
   "id": "4afffd85",
   "metadata": {},
   "source": [
    "**Ans:** A variable is name given to the memrory location where actuall value is stored. value can be of any type like string, number, array etc.\n",
    "string is datatype & which is nothing but a single character or group of character enclosed in single(`''`) or double(`\"\"`) quotes. "
   ]
  },
  {
   "cell_type": "markdown",
   "id": "e1401aa1",
   "metadata": {},
   "source": [
    "#### Q3. Describe three different data types."
   ]
  },
  {
   "cell_type": "markdown",
   "id": "2324aba2",
   "metadata": {},
   "source": [
    "**Ans:**  \n",
    "**Numeric datatypes**:  \n",
    "- **Integer**: integer data type used to store whole number(positive & negative) without decimal  \n",
    "- **Float**: float data type used to store fractional numbers number(positive & negative)  \n",
    "- **complex**: complex data type stores the complex numbers (a + jb)   \n",
    "\n",
    "**String**: stores the sequence of character\n",
    "**Boolean**: boolean datatypes stores two values i.e. True or False  \n",
    "**Sequence**:  \n",
    "- **List**: list datatypes can store multiple items in the single variable  \n",
    "- **Tuple**: tuple aslo used to store multiple items but it can't be changed once declared  \n",
    "\n",
    "**Dict**: dict store the values in key-value pair  "
   ]
  },
  {
   "cell_type": "markdown",
   "id": "0af6d08a",
   "metadata": {},
   "source": [
    "#### Q4. What is an expression made up of? What do all expressions do?"
   ]
  },
  {
   "cell_type": "markdown",
   "id": "a3edc0ff",
   "metadata": {},
   "source": [
    "**Ans**: An expression is combination of values & operators. values can be variable, function call or hard coded value. expression performs the operations on the variables as per the operators used."
   ]
  },
  {
   "cell_type": "markdown",
   "id": "c0e1434c",
   "metadata": {},
   "source": [
    "#### Q5. This assignment statements, like spam = 10. What is the difference between an expression and a statement?"
   ]
  },
  {
   "cell_type": "markdown",
   "id": "50faf110",
   "metadata": {},
   "source": [
    "**Ans**: Expression is combination of values(variable, function call etc) & operators. interpreter evaluates the expression & calculates its value.  \n",
    "**e.g.** 4 + x ** 2  \n",
    "Statement refer to the piece of code that executes a specific instruction.  \n",
    "**e.g.**  \n",
    "- variable assignments\n",
    "- control statments\n",
    "- import statements"
   ]
  },
  {
   "cell_type": "markdown",
   "id": "ab300dc6",
   "metadata": {},
   "source": [
    "#### Q6. After running the following code, what does the variable bacon contain?\n",
    "bacon = 22  \n",
    "bacon + 1"
   ]
  },
  {
   "cell_type": "markdown",
   "id": "acb41274",
   "metadata": {},
   "source": [
    "**Ans**: bacon will contain 22. statement `bacon + 1` have no effect on the bacon's value."
   ]
  },
  {
   "cell_type": "markdown",
   "id": "d496a783",
   "metadata": {},
   "source": [
    "#### Q7. What should the values of the following two terms be?\n",
    "'spam' + 'spamspam'  \n",
    "'spam' * 3"
   ]
  },
  {
   "cell_type": "markdown",
   "id": "8eaf4f1a",
   "metadata": {},
   "source": [
    "**Ans**:.  \n",
    "'spam' + 'spamspam' =>  'spamspamspam'  \n",
    "'spam'* 3 => 'spamspamspam'  \n",
    "Both term will have same value i.e.: `'spamspamspam'`"
   ]
  },
  {
   "cell_type": "markdown",
   "id": "74042c33",
   "metadata": {},
   "source": [
    "#### Q8. Why is eggs a valid variable name while 100 is invalid?"
   ]
  },
  {
   "cell_type": "markdown",
   "id": "8a0b23ea",
   "metadata": {},
   "source": [
    "**Ans**: As per variable naming rules of python, variable name can not start with the number. hence, 100 is not a valid variable name.  \n",
    "the python rules for naming variables are:  \n",
    "- variable name must start with a letter or underscore character.\n",
    "- variable name can not start with the numbers or any other special character other than underscore\n",
    "- variable name can only contain alpha-numeric character(A-Za-z0-9) & underscore(-).\n",
    "- variable names are case sensitive.\n",
    "\n",
    "As per above rules, `eggs` is **valid** variable name but `100` is an **invalid** name."
   ]
  },
  {
   "cell_type": "markdown",
   "id": "13157f60",
   "metadata": {},
   "source": [
    "#### Q9. What three functions can be used to get the integer, floating-point number, or string version of a value?"
   ]
  },
  {
   "cell_type": "markdown",
   "id": "8b73f7df",
   "metadata": {},
   "source": [
    "**Ans**: int(), float() & str() are the three functions which converts the input into int, float & string respectively.  \n",
    "int() => converts the input to int  \n",
    "float() => converts the input to the float\n",
    "str() => converts the input to the string"
   ]
  },
  {
   "cell_type": "code",
   "execution_count": 1,
   "id": "318deb4b",
   "metadata": {},
   "outputs": [
    {
     "name": "stdout",
     "output_type": "stream",
     "text": [
      "str to int:  22\n",
      "str to float:  3.14\n",
      "int to str:  10\n"
     ]
    }
   ],
   "source": [
    "#Exampples\n",
    "print(\"str to int: \", int(\"22\"))\n",
    "print(\"str to float: \", float(\"3.14\"))\n",
    "print(\"int to str: \", str(10))"
   ]
  },
  {
   "cell_type": "markdown",
   "id": "0e41da3d",
   "metadata": {},
   "source": [
    "#### Why does this expression cause an error? How can you fix it?\n",
    "'I have eaten ' + 99 + ' burritos.'"
   ]
  },
  {
   "cell_type": "markdown",
   "id": "4edad6a2",
   "metadata": {},
   "source": [
    "**Ans**:.  \n",
    "**Cause**: The cancatenation only works with the string. but the give expression try to concatenate an integer(99) which causing an error.  \n",
    "**Fix**: use **str()** function to cast the 99(integer) into '99'(string)  \n",
    "expression should be as follows:  \n",
    "`'I have eaten ' + str(99) + ' burritos.'`"
   ]
  },
  {
   "cell_type": "code",
   "execution_count": 2,
   "id": "f8271f57",
   "metadata": {},
   "outputs": [
    {
     "name": "stdout",
     "output_type": "stream",
     "text": [
      "I have eaten 99 burritos.\n"
     ]
    }
   ],
   "source": [
    "print('I have eaten ' + str(99) + ' burritos.')"
   ]
  },
  {
   "cell_type": "markdown",
   "id": "054790f9",
   "metadata": {},
   "source": [
    "### --------------------------------------------- END ---------------------------------------------"
   ]
  }
 ],
 "metadata": {
  "kernelspec": {
   "display_name": "Python 3 (ipykernel)",
   "language": "python",
   "name": "python3"
  },
  "language_info": {
   "codemirror_mode": {
    "name": "ipython",
    "version": 3
   },
   "file_extension": ".py",
   "mimetype": "text/x-python",
   "name": "python",
   "nbconvert_exporter": "python",
   "pygments_lexer": "ipython3",
   "version": "3.8.10"
  }
 },
 "nbformat": 4,
 "nbformat_minor": 5
}
