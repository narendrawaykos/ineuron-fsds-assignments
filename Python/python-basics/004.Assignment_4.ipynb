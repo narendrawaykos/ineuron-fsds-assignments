{
 "cells": [
  {
   "cell_type": "markdown",
   "id": "c36231e5",
   "metadata": {},
   "source": [
    "#### Q1. What exactly is [ ]?\n",
    "**Ans**:1. [ ] this is subscript operator used to define list or array & used to access element in the list/array using index.  \n",
    "2. if [ ] is assigned to the variable, then it's empty list"
   ]
  },
  {
   "cell_type": "markdown",
   "id": "85dc1a3b",
   "metadata": {},
   "source": [
    "#### Q2. In a list of values stored in a variable called spam, how would you assign the value 'hello' as the third value? (Assume [2, 4, 6, 8, 10] are in spam.)\n",
    "**Ans**: `spam[2] = 'hello'` this statment will place the `'hello'` at third position"
   ]
  },
  {
   "cell_type": "markdown",
   "id": "b561adc0",
   "metadata": {},
   "source": [
    "### Let's pretend the spam includes the list ['a','b','c',d'] for the next three queries."
   ]
  },
  {
   "cell_type": "markdown",
   "id": "9d7a930f",
   "metadata": {},
   "source": [
    "#### Q3. What is the value of spam[int(int('3' * 2) / 11)]?\n",
    "**Ans**: `'d'`"
   ]
  },
  {
   "cell_type": "markdown",
   "id": "d5e9b2c3",
   "metadata": {},
   "source": [
    "#### Q4. What is the value of spam[-1]?\n",
    "**Ans**: `'d'`"
   ]
  },
  {
   "cell_type": "markdown",
   "id": "70060fbd",
   "metadata": {},
   "source": [
    "#### Q5.What is the value of spam[:2]?\n",
    "**Ans**: `['a', 'b']`"
   ]
  },
  {
   "cell_type": "markdown",
   "id": "15742852",
   "metadata": {},
   "source": [
    "### Let&#39;s pretend bacon has the list [3.14, &#39;cat&#39;, 11, &#39;cat,&#39; True] for the next three questions."
   ]
  },
  {
   "cell_type": "markdown",
   "id": "db981656",
   "metadata": {},
   "source": [
    "#### Q6. What is the value of bacon.index(&#39;cat&#39;)?\n",
    "**Ans**: `1`"
   ]
  },
  {
   "cell_type": "markdown",
   "id": "b77143a7",
   "metadata": {},
   "source": [
    "#### Q7. How does bacon.append(99) change the look of the list value in bacon?\n",
    "**Ans**: `[3.14, 'cat', 11, 'cat', True, 99]`"
   ]
  },
  {
   "cell_type": "markdown",
   "id": "fe55de53",
   "metadata": {},
   "source": [
    "#### Q8. How does bacon.remove(&#39;cat&#39;) change the look of the list in bacon?\n",
    "**Ans**: `[3.14, 11, 'cat', True]`"
   ]
  },
  {
   "cell_type": "markdown",
   "id": "9f628fa4",
   "metadata": {},
   "source": [
    "#### Q9. What are the list concatenation and list replication operators?\n",
    "**Ans**: `+` is a list concatenation operator while `*` is replication operator"
   ]
  },
  {
   "cell_type": "code",
   "execution_count": 1,
   "id": "20b6c102",
   "metadata": {},
   "outputs": [
    {
     "name": "stdout",
     "output_type": "stream",
     "text": [
      "['a', 'b', 'c', 'x', 'y', 'z']\n",
      "['a', 'b', 'c', 'a', 'b', 'c', 'a', 'b', 'c']\n"
     ]
    }
   ],
   "source": [
    "#Example:\n",
    "letters = ['a', 'b', 'c']\n",
    "end = ['x', 'y', 'z']\n",
    "print(letters + end)  # concatenation\n",
    "print(letters * 3)   # replication"
   ]
  },
  {
   "cell_type": "markdown",
   "id": "6483b276",
   "metadata": {},
   "source": [
    "#### Q10. What is difference between the list methods append() and insert()?\n",
    "**Ans**: `append()` add the values at the end of the list. `insert()` can add values at any index."
   ]
  },
  {
   "cell_type": "code",
   "execution_count": 2,
   "id": "1fde080e",
   "metadata": {},
   "outputs": [
    {
     "name": "stdout",
     "output_type": "stream",
     "text": [
      "-----before append----\n",
      "['mango', 'apple', 'banana']\n",
      "\n",
      "\n",
      "-----after append----\n",
      "['mango', 'apple', 'banana', 'orange']\n",
      "\n",
      "\n",
      "-----after inserting value at index 1----\n",
      "['mango', 'grapes', 'apple', 'banana', 'orange']\n"
     ]
    }
   ],
   "source": [
    "#Example\n",
    "fruits = ['mango', 'apple', 'banana']\n",
    "print('-----before append----')\n",
    "print(fruits)\n",
    "fruits.append('orange')   # add value at the end\n",
    "print('\\n\\n-----after append----')\n",
    "print(fruits)\n",
    "fruits.insert(1, 'grapes')\n",
    "print('\\n\\n-----after inserting value at index 1----')\n",
    "print(fruits)"
   ]
  },
  {
   "cell_type": "markdown",
   "id": "f1b3adc5",
   "metadata": {},
   "source": [
    "#### Q11. What are the two methods for removing items from a list?\n",
    "**Ans**: `remove()` and `pop()` are two methods to remove element from the list"
   ]
  },
  {
   "cell_type": "markdown",
   "id": "07047a7f",
   "metadata": {},
   "source": [
    "#### Q12. Describe how list values and string values are identical.\n",
    "**Ans**: String acts as a character array. some of the common functions & operator which can be used with both string & list are: `len()`, concatenation & replication operator, indexing & slicing etc. hence they are identical"
   ]
  },
  {
   "cell_type": "markdown",
   "id": "951eb584",
   "metadata": {},
   "source": [
    "#### Q13. What&#39;s the difference between tuples and lists?\n",
    "**Ans**: \n",
    "\n",
    "|tuples|lists|\n",
    "|------|-----|\n",
    "|represented using () (paranthesis)|represented using [](square bracket)|\n",
    "|tuples are Immutable. i.e. cannot be changed|lists are mutable|\n",
    "|tuples are slicable & indexable|lists are also slicable & indexable|"
   ]
  },
  {
   "cell_type": "markdown",
   "id": "e292eeae",
   "metadata": {},
   "source": [
    "#### Q14. How do you type a tuple value that only contains the integer 42?\n",
    "**Ans**: `a = (42,)`"
   ]
  },
  {
   "cell_type": "markdown",
   "id": "ca563bc2",
   "metadata": {},
   "source": [
    "#### Q15. How do you get a list value&#39;s tuple form? How do you get a tuple value&#39;s list form?\n",
    "**Ans**:  \n",
    "list value's tuple form:  `tuple(<list_name>)`  \n",
    "tuple value's list form:  `list(<tuple_name>)`"
   ]
  },
  {
   "cell_type": "code",
   "execution_count": 3,
   "id": "b450e3c0",
   "metadata": {},
   "outputs": [
    {
     "name": "stdout",
     "output_type": "stream",
     "text": [
      "List:  ['Rohit', 'Virat', 'Surya']\n",
      "Tuple form of list:  ('Rohit', 'Virat', 'Surya')\n",
      "Tuple:  ('Cricket', 'Football')\n",
      "List form of tuple:  ['Cricket', 'Football']\n"
     ]
    }
   ],
   "source": [
    "#Example\n",
    "names = ['Rohit', 'Virat', 'Surya']\n",
    "print(\"List: \", names)\n",
    "print(\"Tuple form of list: \", tuple(names))\n",
    "\n",
    "sports = ('Cricket', 'Football')\n",
    "print(\"Tuple: \", sports)\n",
    "print(\"List form of tuple: \", list(sports))\n"
   ]
  },
  {
   "cell_type": "markdown",
   "id": "9272a09a",
   "metadata": {},
   "source": [
    "#### Q16. Variables that &quot;contain&quot; list values are not necessarily lists themselves. Instead, what do they contain?\n",
    "**Ans**: They contains reference to the list"
   ]
  },
  {
   "cell_type": "markdown",
   "id": "b876125c",
   "metadata": {},
   "source": [
    "#### Q17. How do you distinguish between copy.copy() and copy.deepcopy()?\n",
    "**Ans**: \n",
    "\n",
    "`copy.copy()` creates shallow copy (i.e. new variable which refer to the original values) of the reference variable.  \n",
    "`copy.deepcopy()` creates deep copy (i.e. duplicate list with the copy of original variable in it) of the reference variable."
   ]
  },
  {
   "cell_type": "markdown",
   "id": "e86687da",
   "metadata": {},
   "source": [
    "# -------------------------------------------- END -----------------------------------------"
   ]
  }
 ],
 "metadata": {
  "kernelspec": {
   "display_name": "Python 3 (ipykernel)",
   "language": "python",
   "name": "python3"
  },
  "language_info": {
   "codemirror_mode": {
    "name": "ipython",
    "version": 3
   },
   "file_extension": ".py",
   "mimetype": "text/x-python",
   "name": "python",
   "nbconvert_exporter": "python",
   "pygments_lexer": "ipython3",
   "version": "3.8.10"
  }
 },
 "nbformat": 4,
 "nbformat_minor": 5
}
