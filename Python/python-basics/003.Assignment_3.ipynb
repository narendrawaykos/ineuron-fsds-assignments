{
 "cells": [
  {
   "cell_type": "markdown",
   "id": "56e1ed9f",
   "metadata": {},
   "source": [
    "# Assignment 3 solutions"
   ]
  },
  {
   "cell_type": "markdown",
   "id": "6bc07cc0",
   "metadata": {},
   "source": [
    "#### Q1. Why are functions advantageous to have in your programs?\n",
    "\n",
    "**Ans**:\n",
    "Function is subprogram which performs the specific task.\n",
    "Advantages of function:\n",
    "- reduces the duplicate codes,\n",
    "- increase the readability.\n",
    "- reusablity i.e. you can call the same function any number of times."
   ]
  },
  {
   "cell_type": "markdown",
   "id": "0df2e418",
   "metadata": {},
   "source": [
    "#### Q2. When does the code in a function run: when it's specified or when it's called?\n",
    "**Ans**: Function run when it's get called."
   ]
  },
  {
   "cell_type": "markdown",
   "id": "e6843570",
   "metadata": {},
   "source": [
    "#### Q3. What statement creates a function?\n",
    "\n",
    "**Ans**: The `def` statement is used to define a funtion.  \n",
    "**e.g.**  \n",
    "`def function_name(parameters):   \n",
    "    ===== body ====\n",
    "    ===== body ====\n",
    "    return value`"
   ]
  },
  {
   "cell_type": "markdown",
   "id": "9539c61b",
   "metadata": {},
   "source": [
    "#### Q4. What is the difference between a function and a function call?\n",
    "\n",
    "**Ans**: The `function` is subprogram/routing which performs the specific task. the `function call` runs this task/subprogram written in that function."
   ]
  },
  {
   "cell_type": "markdown",
   "id": "5d09f6de",
   "metadata": {},
   "source": [
    "#### Q5. How many global scopes are there in a Python program? How many local scopes?\n",
    "\n",
    "**Ans**: There is single global scope in a python program. scope inside a function is called local scope. whenever function run local scope is created."
   ]
  },
  {
   "cell_type": "markdown",
   "id": "8eb196ea",
   "metadata": {},
   "source": [
    "#### Q6. What happens to variables in a local scope when the function call returns?\n",
    "\n",
    "**Ans**: When the function call returns, all the local variable is destroyed. Technically, when function is called, all the local variable pushed to the stack & when function returns all these variable popped out of the stack."
   ]
  },
  {
   "cell_type": "markdown",
   "id": "c99dd129",
   "metadata": {},
   "source": [
    "#### Q7.  What is the concept of a return value? Is it possible to have a return value in an expression?\n",
    "**Ans**: Return value return by the function when a function call is made. return value can be variable, hardcoded value, expression & even another funtion."
   ]
  },
  {
   "cell_type": "markdown",
   "id": "d037e254",
   "metadata": {},
   "source": [
    "#### Q8. If a function does not have a return statement, what is the return value of a call to that function?\n",
    "**Ans**: If a function doesn't have a return statement then the default return value is `None`."
   ]
  },
  {
   "cell_type": "markdown",
   "id": "689d0dd2",
   "metadata": {},
   "source": [
    "#### Q9. How do you make a function variable refer to the global variable?\n",
    "**Ans**: By using `global` keyword we can achieve this"
   ]
  },
  {
   "cell_type": "markdown",
   "id": "34963914",
   "metadata": {},
   "source": [
    "#### Q10. What is the data type of None?\n",
    "**Ans**: Data type of `None` is a `NoneType`"
   ]
  },
  {
   "cell_type": "markdown",
   "id": "45ea22b7",
   "metadata": {},
   "source": [
    "#### Q11. What does the sentence import areallyourpetsnamederic do?\n",
    "**Ans**: this will import a module named `areallyourpetsnamederic`"
   ]
  },
  {
   "cell_type": "markdown",
   "id": "9f08cb71",
   "metadata": {},
   "source": [
    "#### Q12. If you had a bacon() feature in a spam module, what would you call it after importing spam?\n",
    "**Ans**: The function is called using `spam.bacon()`"
   ]
  },
  {
   "cell_type": "markdown",
   "id": "8efb36b3",
   "metadata": {},
   "source": [
    "#### Q13. What can you do to save a programme from crashing if it encounters an error?\n",
    "**Ans**: By using `try-except`we can handle the error. place the code segment which might cause an error inside the `try` & use `except` to handle the error."
   ]
  },
  {
   "cell_type": "markdown",
   "id": "a8ac0a98",
   "metadata": {},
   "source": [
    "#### Q14. What is the purpose of the try clause? What is the purpose of the except clause?\n",
    "**Ans**: The code segement which might cause an error will be placed in the `try` block. `except` block then used to handle an error thrown by code."
   ]
  },
  {
   "cell_type": "markdown",
   "id": "c21f9843",
   "metadata": {},
   "source": [
    "# ------------------------------------------------- END --------------------------------------------------"
   ]
  }
 ],
 "metadata": {
  "kernelspec": {
   "display_name": "Python 3 (ipykernel)",
   "language": "python",
   "name": "python3"
  },
  "language_info": {
   "codemirror_mode": {
    "name": "ipython",
    "version": 3
   },
   "file_extension": ".py",
   "mimetype": "text/x-python",
   "name": "python",
   "nbconvert_exporter": "python",
   "pygments_lexer": "ipython3",
   "version": "3.8.10"
  }
 },
 "nbformat": 4,
 "nbformat_minor": 5
}
